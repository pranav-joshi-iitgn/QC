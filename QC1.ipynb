{
 "cells": [
  {
   "cell_type": "code",
   "execution_count": 1,
   "id": "0b897ef6-e771-4d8c-bf3e-3dc7d8edb09b",
   "metadata": {},
   "outputs": [
    {
     "name": "stdout",
     "output_type": "stream",
     "text": [
      "$MOVI(s10,16)\n",
      "$MOVI(s11,3)\n",
      "LABEL @SignDiv\n",
      "\n",
      "$SLTREG(s21,s10,s24)\n",
      "$SLTREG(s22,s11,s24)\n",
      "$BEQ(s21,s24,a0isfin)\n",
      "$SUBREG(s10,s24,s10)\n",
      "LABEL @a0isfin\n",
      "$BEQ(s22,s24,a1isfin)\n",
      "$SUBREG(s11,s24,s11)\n",
      "LABEL @a1isfin\n",
      "LABEL @Div\n",
      "$MOVI(s16,32)\n",
      "$ADDREG(s9,s24,s24)\n",
      "$ADDREG(s8,s24,s24)\n",
      "LABEL @loopdiv\n",
      "$BEQ(s16,s24,endiv)\n",
      "$SLL(s9,s9,1)\n",
      "$SLTREG(s14,s10,s24)\n",
      "$BEQ(s14,s24,e1)\n",
      "$INCREG(s9)\n",
      "LABEL @e1\n",
      "$SLL(s10,s10,1)\n",
      "$SLL(s8,s8,1)\n",
      "$SLTREG(s14,s9,s11)\n",
      "$BNE(s14,s24,e2)\n",
      "$SUBREG(s9,s9,s11)\n",
      "$INCREG(s8)\n",
      "LABEL @e2\n",
      "$DECREG(s16)\n",
      "JUMP @loopdiv\n",
      "LABEL @endiv\n",
      "\n",
      "$BEQ(s21,s22,endSignDiv)\n",
      "$SUBREG(s8,s24,s8)\n",
      "$SUBREG(s9,s24,s9)\n",
      "$SLTREG(s20,s9,s24)\n",
      "$BEQ(s20,s24,endSignDiv)\n",
      "$DECREG(s8)\n",
      "$ADDREG(s9,s9,s11)\n",
      "LABEL @remis0\n",
      "LABEL @endSignDiv \n",
      "\n"
     ]
    }
   ],
   "source": [
    "from q9 import *\n",
    "from Convert import *\n",
    "S = open(\"mips_program.txt\").read()\n",
    "S = S.split(\"\\n\")\n",
    "S = [extract_inst(s) for s in S]\n",
    "S = \"\\n\".join(S)\n",
    "print(S,\"\\n\")"
   ]
  },
  {
   "cell_type": "code",
   "execution_count": 2,
   "id": "44b1b268-85d9-494e-a0e5-2768d52e7039",
   "metadata": {},
   "outputs": [
    {
     "name": "stderr",
     "output_type": "stream",
     "text": [
      "ModuleNotFoundError: No module named 'opentelemetry'\n",
      "ModuleNotFoundError: No module named 'opentelemetry'\n",
      "ModuleNotFoundError: No module named 'opentelemetry'\n"
     ]
    },
    {
     "data": {
      "text/latex": [
       "$$ \\boxed{\\begin{matrix}|\\Psi\\rangle & C \\\\\\begin{bmatrix}(1+0j)& |0\\rangle\\end{bmatrix} &\\begin{bmatrix}\\text{register} & \\text{binary value} & \\text{signed decimal}\\\\ s0 & 00000000000000000000000000000000 & 0\\\\ s1 & 00000000000000000000000000000000 & 0\\\\ s2 & 00000000000000000000000000000000 & 0\\\\ s3 & 00000000000000000000000000000000 & 0\\\\ s4 & 00000000000000000000000000000000 & 0\\\\ s5 & 00000000000000000000000000000000 & 0\\\\ s6 & 00000000000000000000000000000000 & 0\\\\ s7 & 00000000000000000000000000000000 & 0\\\\ s8 & 00000000000000000000000000000101 & 5\\\\ s9 & 00000000000000000000000000000001 & 1\\\\ s10 & 00000000000000000000000000000000 & 0\\\\ s11 & 00000000000000000000000000000011 & 3\\\\ s12 & 00000000000000000000000000000000 & 0\\\\ s13 & 00000000000000000000000000000000 & 0\\\\ s14 & 00000000000000000000000000000000 & 0\\\\ s15 & 00000000000000000000000000000000 & 0\\\\ s16 & 00000000000000000000000000000000 & 0\\\\ s17 & 00000000000000000000000000000000 & 0\\\\ s18 & 00000000000000000000000000000000 & 0\\\\ s19 & 00000000000000000000000000000000 & 0\\\\ s20 & 00000000000000000000000000000000 & 0\\\\ s21 & 00000000000000000000000000000000 & 0\\\\ s22 & 00000000000000000000000000000000 & 0\\\\ s23 & 00000000000000000000000000000000 & 0\\\\ s24 & 00000000000000000000000000000000 & 0\\\\ s25 & 00000000000000000000000000000000 & 0\\\\ s26 & 00000000000000000000000000000000 & 0\\\\ s27 & 00000000000000000000000000000000 & 0\\\\ s28 & 00000000000000000000000000000000 & 0\\\\ s29 & 00000000000000000000000000000000 & 0\\\\ s30 & 00000000000000000000000000000000 & 0\\\\ s31 & 00000000000000000000000000001100 & 12 \\end{bmatrix}\\end{matrix}} $$"
      ],
      "text/plain": [
       "<IPython.core.display.Latex object>"
      ]
     },
     "execution_count": 2,
     "metadata": {},
     "output_type": "execute_result"
    }
   ],
   "source": [
    "PO = ProgramOutput(S)\n",
    "PO.run_and_display()"
   ]
  }
 ],
 "metadata": {
  "kernelspec": {
   "display_name": "Python 3 (ipykernel)",
   "language": "python",
   "name": "python3"
  },
  "language_info": {
   "codemirror_mode": {
    "name": "ipython",
    "version": 3
   },
   "file_extension": ".py",
   "mimetype": "text/x-python",
   "name": "python",
   "nbconvert_exporter": "python",
   "pygments_lexer": "ipython3",
   "version": "3.9.17"
  }
 },
 "nbformat": 4,
 "nbformat_minor": 5
}
